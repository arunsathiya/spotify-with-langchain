{
 "cells": [
  {
   "cell_type": "code",
   "execution_count": null,
   "metadata": {},
   "outputs": [],
   "source": [
    "%pip install python_dotenv\n",
    "%pip install -U langchain langchain_experimental\n",
    "%pip install -U spotipy\n",
    "%pip install -U openai==v0.28.1\n",
    "%pip install -U gradio"
   ]
  },
  {
   "cell_type": "code",
   "execution_count": null,
   "metadata": {},
   "outputs": [],
   "source": [
    "%reload_ext dotenv\n",
    "%dotenv"
   ]
  },
  {
   "cell_type": "code",
   "execution_count": null,
   "metadata": {},
   "outputs": [],
   "source": [
    "from langchain_experimental.pal_chain import PALChain\n",
    "from langchain.chains import LLMChain\n",
    "from langchain.chains import SequentialChain\n",
    "from langchain.prompts import PromptTemplate\n",
    "from langchain.chat_models import ChatOpenAI\n",
    "from langchain.prompts.prompt import PromptTemplate"
   ]
  },
  {
   "cell_type": "code",
   "execution_count": null,
   "metadata": {},
   "outputs": [],
   "source": [
    "from spotipy.oauth2 import SpotifyClientCredentials"
   ]
  },
  {
   "cell_type": "code",
   "execution_count": null,
   "metadata": {},
   "outputs": [],
   "source": [
    "import os"
   ]
  },
  {
   "cell_type": "code",
   "execution_count": null,
   "metadata": {},
   "outputs": [],
   "source": [
    "llm = ChatOpenAI(model=\"gpt-3.5-turbo\")"
   ]
  },
  {
   "cell_type": "code",
   "execution_count": null,
   "metadata": {},
   "outputs": [],
   "source": [
    "auth = SpotifyClientCredentials(\n",
    "    client_id=os.getenv(\"SPOTIFY_CLIENT_ID\"),\n",
    "    client_secret=os.getenv(\"SPOTIFY_CLIENT_SECRET\")\n",
    ")"
   ]
  },
  {
   "cell_type": "code",
   "execution_count": null,
   "metadata": {},
   "outputs": [],
   "source": [
    "import spotipy\n",
    "spotifyClient = spotipy.Spotify(auth_manager=auth)"
   ]
  },
  {
   "cell_type": "code",
   "execution_count": null,
   "metadata": {},
   "outputs": [],
   "source": [
    "SPOTIPY_PROMPT_TEMPLATE = (\n",
    "    '''\n",
    "API LIMITATIONS TO NOTE\n",
    "* When requesting track information, the limit is 50 at a time\n",
    "* When requesting audio features, the limit is 100 at a time\n",
    "* When selecting multiple artists, the limit is 50 at a time\n",
    "* When asking for recommendations, the limit is 100 at a time\n",
    "=====\n",
    "\n",
    "Q: What albums has the band Green Day made?\n",
    "\n",
    "# solution in Python:\n",
    "\n",
    "\n",
    "def solution():\n",
    "    \"\"\"What albums has the band Green Day made?\"\"\"\n",
    "    search_results = sp.search(q='Green Day', type='artist')\n",
    "    uri = search_results['artists']['items'][0]['uri']\n",
    "    albums = sp.artist_albums(green_day_uri, album_type='album')\n",
    "    return albums\n",
    "\n",
    "\n",
    "\n",
    "\n",
    "Q: Who are some musicians similar to Fiona Apple?\n",
    "\n",
    "# solution in Python:\n",
    "\n",
    "\n",
    "def solution():\n",
    "    \"\"\"Who are some musicians similar to Fiona Apple?\"\"\"\n",
    "    search_results = sp.search(q='Fiona Apple', type='artist')\n",
    "    uri = search_results['artists']['items'][0].get('uri')\n",
    "    artists = sp.artist_related_artists(uri)\n",
    "    return artists\n",
    "\n",
    "\n",
    "\n",
    "Q: Tell me what songs by The Promise Ring sound like\n",
    "\n",
    "# solution in Python:\n",
    "\n",
    "\n",
    "def solution():\n",
    "    \"\"\"Tell me what songs by The Promise Ring sound like?\"\"\"\n",
    "    search_results = sp.search(q='The Promise Ring', type='artist')\n",
    "    uri = search_results['artists']['items'][0].get('uri')\n",
    "    tracks = sp.artist_top_tracks(uri)\n",
    "    track_uris = [track.get('uri') for track in tracks['tracks']]\n",
    "    audio_details = sp.audio_features(track_uris)\n",
    "    return audio_details\n",
    "\n",
    "\n",
    "\n",
    "Q: Get me the URI for the album The Colour And The Shape\n",
    "\n",
    "# solution in Python:\n",
    "\n",
    "\n",
    "def solution():\n",
    "    \"\"\"Get me the URI for the album The Colour And The Shape\"\"\"\n",
    "    search_results = sp.search(q='The Colour And The Shape', type='album')\n",
    "    uri = search_results['albums']['items'][0].get('uri')\n",
    "    return uri\n",
    "\n",
    "\n",
    "\n",
    "Q: What are the first three songs on Diet Cig's Over Easy?\n",
    "\n",
    "# solution in Python:\n",
    "\n",
    "\n",
    "def solution():\n",
    "    \"\"\"What are the first three songs on Diet Cig's Over Easy?\"\"\"\n",
    "    # Get the URI for the album\n",
    "    search_results = sp.search(q='Diet Cig Over Easy', type='album')\n",
    "    album = search_results['albums']['items'][0]\n",
    "    album_uri = album['uri']\n",
    "    # Get the album tracks\n",
    "    album_tracks = sp.album_tracks(album_uri)['items']\n",
    "    # Sort the tracks by duration\n",
    "    first_three = album_tracks[:3]\n",
    "    tracks = []\n",
    "    # Only include relevant fields\n",
    "    for i, track in enumerate(first_three):\n",
    "        # track['album'] does NOT work with sp.album_tracks\n",
    "        # you need to use album['name'] instead\n",
    "        tracks.append({{\n",
    "            'position': i+1,\n",
    "            'song_name': track.get('name'),\n",
    "            'song_uri': track['artists'][0].get('uri'),\n",
    "            'artist_uri': track['artists'][0].get('uri'),\n",
    "            'album_uri': album.get('uri'),\n",
    "            'album_name': album.get('name')\n",
    "        }})\n",
    "    return tracks\n",
    "\n",
    "\n",
    "Q: What are the thirty most danceable songs by Metallica?\n",
    "\n",
    "# solution in Python:\n",
    "\n",
    "\n",
    "def solution():\n",
    "    \"\"\"What are most danceable songs by Metallica?\"\"\"\n",
    "    search_results = sp.search(q='Metallica', type='artist')\n",
    "    uri = search_results['artists']['items'][0]['uri']\n",
    "    albums = sp.artist_albums(uri, album_type='album')\n",
    "    album_uris = [album['uri'] for album in albums['items']]\n",
    "    tracks = []\n",
    "    for album_uri in album_uris:\n",
    "        album_tracks = sp.album_tracks(album_uri)\n",
    "        tracks.extend(album_tracks['items'])\n",
    "    track_uris = [track['uri'] for track in tracks]\n",
    "    danceable_tracks = []\n",
    "    # You can only have 100 at a time\n",
    "    for i in range(0, len(track_uris), 100):\n",
    "        subset_track_uris = track_uris[i:i+100]\n",
    "        audio_details = sp.audio_features(subset_track_uris)\n",
    "        for j, details in enumerate(audio_details):\n",
    "            if details['danceability'] > 0.7:\n",
    "                track = tracks[i+j]\n",
    "                danceable_tracks.append({{\n",
    "                    'song': track.get('name')\n",
    "                    'album': track.get('album').get('name')\n",
    "                    'danceability': details.get('danceability'),\n",
    "                    'tempo': details.get('tempo'),\n",
    "                }})\n",
    "                # Be sure to add the audio details to the track\n",
    "                danceable_tracks.append(track)\n",
    "    return danceable_tracks\n",
    "\n",
    "\n",
    "\n",
    "Q: {question}. Return a list or dictionary, including all the fields, including relevant scores and the uris to the albums/songs/artists mentioned. Only return the data – if the prompt asks for a format such as markdown or a simple string, ignore it: you are only meant to provide the information, not the formatting. A later step in the process will convert the data into the new format (table, sentence, etc).\n",
    "\n",
    "# solution in Python:\n",
    "'''.strip()\n",
    "    + \"\\n\\n\\n\"\n",
    ")\n",
    "\n",
    "SPOTIPY_PROMPT = PromptTemplate(input_variables=[\"question\"], template=SPOTIPY_PROMPT_TEMPLATE)"
   ]
  },
  {
   "cell_type": "code",
   "execution_count": null,
   "metadata": {},
   "outputs": [],
   "source": [
    "spotify_chain = PALChain(\n",
    "    llm_chain=LLMChain(llm=ChatOpenAI(model=\"gpt-3.5-turbo\"), prompt=SPOTIPY_PROMPT),\n",
    "    get_answer_expr=\"import json; print(json.dumps(solution()))\",\n",
    "    python_globals={\"sp\": spotifyClient},\n",
    "    stop=\"\\n\\n\\n\",\n",
    "    verbose=True,\n",
    "    return_intermediate_steps=True,\n",
    ")\n",
    "print(spotify_chain)"
   ]
  },
  {
   "cell_type": "code",
   "execution_count": null,
   "metadata": {},
   "outputs": [],
   "source": [
    "RESPONSE_CLEANUP_PROMPT_TEMPLATE = (\"\"\" \n",
    "Using this code:\n",
    "\n",
    "```python\n",
    "{intermediate_steps}\n",
    "```\n",
    "\n",
    "We got the following output from the Spotify API:\n",
    "\n",
    "```json\n",
    "{result}\n",
    "```\n",
    "\n",
    "Using the output above as your data source, answer the question {question}. Don't describe the code or process, just answer the question.\n",
    "Answer:\"\"\"\n",
    ")\n",
    "\n",
    "RESPONSE_CLEANUP_PROMPT = PromptTemplate(\n",
    "    input_variables=[\"question\", \"intermediate_steps\", \"result\"],\n",
    "    template=RESPONSE_CLEANUP_PROMPT_TEMPLATE,\n",
    ")"
   ]
  },
  {
   "cell_type": "code",
   "execution_count": null,
   "metadata": {},
   "outputs": [],
   "source": [
    "explainer_chain = LLMChain(\n",
    "    llm=llm,\n",
    "    prompt=RESPONSE_CLEANUP_PROMPT,\n",
    "    verbose=True,\n",
    "    output_key='answer'\n",
    ")"
   ]
  },
  {
   "cell_type": "code",
   "execution_count": null,
   "metadata": {},
   "outputs": [],
   "source": [
    "overall_chain = SequentialChain(\n",
    "    chains=[spotify_chain, explainer_chain],\n",
    "    input_variables=['question'],\n",
    "    verbose=True\n",
    ")"
   ]
  },
  {
   "cell_type": "code",
   "execution_count": null,
   "metadata": {},
   "outputs": [],
   "source": [
    "import gradio as gr\n",
    "import random\n",
    "import time\n"
   ]
  },
  {
   "cell_type": "code",
   "execution_count": null,
   "metadata": {},
   "outputs": [],
   "source": [
    "with gr.Blocks() as demo:\n",
    "    chatbot = gr.Chatbot()\n",
    "    msg = gr.Textbox()\n",
    "    clear = gr.ClearButton([msg, chatbot])\n",
    "\n",
    "    def respond(message, chat_history):\n",
    "        bot_message = overall_chain.run(message)\n",
    "        chat_history.append((message, bot_message))\n",
    "        time.sleep(2)\n",
    "        return \"\", chat_history\n",
    "\n",
    "    msg.submit(respond, [msg, chatbot], [msg, chatbot])\n",
    "\n",
    "demo.launch()"
   ]
  }
 ],
 "metadata": {
  "kernelspec": {
   "display_name": ".venv",
   "language": "python",
   "name": "python3"
  },
  "language_info": {
   "codemirror_mode": {
    "name": "ipython",
    "version": 3
   },
   "file_extension": ".py",
   "mimetype": "text/x-python",
   "name": "python",
   "nbconvert_exporter": "python",
   "pygments_lexer": "ipython3",
   "version": "3.11.6"
  }
 },
 "nbformat": 4,
 "nbformat_minor": 2
}
